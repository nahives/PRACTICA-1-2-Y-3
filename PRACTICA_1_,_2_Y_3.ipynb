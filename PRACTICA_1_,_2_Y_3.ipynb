{
  "nbformat": 4,
  "nbformat_minor": 0,
  "metadata": {
    "colab": {
      "provenance": [],
      "authorship_tag": "ABX9TyOugQ0cFQaS5w4Rr10DpjV/",
      "include_colab_link": true
    },
    "kernelspec": {
      "name": "python3",
      "display_name": "Python 3"
    },
    "language_info": {
      "name": "python"
    }
  },
  "cells": [
    {
      "cell_type": "markdown",
      "metadata": {
        "id": "view-in-github",
        "colab_type": "text"
      },
      "source": [
        "<a href=\"https://colab.research.google.com/github/nahives/PRACTICA-1-2-Y-3/blob/main/PRACTICA_1_%2C_2_Y_3.ipynb\" target=\"_parent\"><img src=\"https://colab.research.google.com/assets/colab-badge.svg\" alt=\"Open In Colab\"/></a>"
      ]
    },
    {
      "cell_type": "markdown",
      "source": [
        "## probabilidad_U2_Programa1"
      ],
      "metadata": {
        "id": "hYsc9NoSIsV5"
      }
    },
    {
      "cell_type": "code",
      "execution_count": 16,
      "metadata": {
        "id": "Ne_SFa7BXV4e"
      },
      "outputs": [],
      "source": [
        "import math as mt # para utilizar factorial.\n",
        "from itertools import combinations\n",
        "from itertools import combinations_with_replacement\n",
        "import numpy as np"
      ]
    },
    {
      "cell_type": "code",
      "source": [
        "nombres=[\"oscar\",\"paco\",\"paty\",\"laura\",\"ruben\",\"luis\",\"lucy\",\"alberto\",\"juan\",\"dany\"]\n",
        "n = len(nombres)\n",
        "r = 2 # como agrupar?\n",
        "\n",
        "Cn= mt.factorial(n)/ (mt.factorial(r) * mt.factorial(n-r))\n",
        "print(\"existen\", Cn , \"posibles combinaciones sin repeticion del total de\",n, \"nombres\", \"en grupos de\" , r, \"en\", r)\n",
        "print(\"aqui  las combinaciones\")\n",
        "combinaciones_nombres= list(combinations(nombres,r))\n",
        "\n",
        "#imprime combinaciones.\n",
        "\n",
        "for combinacion in combinaciones_nombres:\n",
        "  print(combinacion)"
      ],
      "metadata": {
        "id": "aXKIC0MIYHeH",
        "colab": {
          "base_uri": "https://localhost:8080/"
        },
        "outputId": "b1eedcc3-b772-46ed-e168-f4d0f8fef44b"
      },
      "execution_count": 17,
      "outputs": [
        {
          "output_type": "stream",
          "name": "stdout",
          "text": [
            "existen 45.0 posibles combinaciones sin repeticion del total de 10 nombres en grupos de 2 en 2\n",
            "aqui  las combinaciones\n",
            "('oscar', 'paco')\n",
            "('oscar', 'paty')\n",
            "('oscar', 'laura')\n",
            "('oscar', 'ruben')\n",
            "('oscar', 'luis')\n",
            "('oscar', 'lucy')\n",
            "('oscar', 'alberto')\n",
            "('oscar', 'juan')\n",
            "('oscar', 'dany')\n",
            "('paco', 'paty')\n",
            "('paco', 'laura')\n",
            "('paco', 'ruben')\n",
            "('paco', 'luis')\n",
            "('paco', 'lucy')\n",
            "('paco', 'alberto')\n",
            "('paco', 'juan')\n",
            "('paco', 'dany')\n",
            "('paty', 'laura')\n",
            "('paty', 'ruben')\n",
            "('paty', 'luis')\n",
            "('paty', 'lucy')\n",
            "('paty', 'alberto')\n",
            "('paty', 'juan')\n",
            "('paty', 'dany')\n",
            "('laura', 'ruben')\n",
            "('laura', 'luis')\n",
            "('laura', 'lucy')\n",
            "('laura', 'alberto')\n",
            "('laura', 'juan')\n",
            "('laura', 'dany')\n",
            "('ruben', 'luis')\n",
            "('ruben', 'lucy')\n",
            "('ruben', 'alberto')\n",
            "('ruben', 'juan')\n",
            "('ruben', 'dany')\n",
            "('luis', 'lucy')\n",
            "('luis', 'alberto')\n",
            "('luis', 'juan')\n",
            "('luis', 'dany')\n",
            "('lucy', 'alberto')\n",
            "('lucy', 'juan')\n",
            "('lucy', 'dany')\n",
            "('alberto', 'juan')\n",
            "('alberto', 'dany')\n",
            "('juan', 'dany')\n"
          ]
        }
      ]
    },
    {
      "cell_type": "code",
      "source": [
        "caracteres= [\"a\",\"b\",\"c\", \"d\",\"e\",\"f\",\"0\", \"1\",\"2\", \"3\", \"4\",\"5\"]\n",
        "n= len(caracteres)\n",
        "r= 10 # como agrupar?\n",
        "\n",
        "Cn= mt.factorial(n)/ (mt.factorial(r) * mt.factorial(n-r))\n",
        "print(\"existen\", Cn , \"posibles combinaciones sin repeticion del total de\",n, \"nombres\", \"en grupos de\" , r, \"en\", r)\n",
        "print(\"aqui  las combinaciones\")\n",
        "combinaciones_caracteres= list(combinations(caracteres,r))\n",
        "\n",
        "for combinacion in combinaciones_caracteres:\n",
        "   print(combinacion)"
      ],
      "metadata": {
        "id": "vXEIZA9JBs3_",
        "colab": {
          "base_uri": "https://localhost:8080/"
        },
        "outputId": "3e77d84e-13ed-4549-d22a-d67718c8fc92"
      },
      "execution_count": 18,
      "outputs": [
        {
          "output_type": "stream",
          "name": "stdout",
          "text": [
            "existen 66.0 posibles combinaciones sin repeticion del total de 12 nombres en grupos de 10 en 10\n",
            "aqui  las combinaciones\n",
            "('a', 'b', 'c', 'd', 'e', 'f', '0', '1', '2', '3')\n",
            "('a', 'b', 'c', 'd', 'e', 'f', '0', '1', '2', '4')\n",
            "('a', 'b', 'c', 'd', 'e', 'f', '0', '1', '2', '5')\n",
            "('a', 'b', 'c', 'd', 'e', 'f', '0', '1', '3', '4')\n",
            "('a', 'b', 'c', 'd', 'e', 'f', '0', '1', '3', '5')\n",
            "('a', 'b', 'c', 'd', 'e', 'f', '0', '1', '4', '5')\n",
            "('a', 'b', 'c', 'd', 'e', 'f', '0', '2', '3', '4')\n",
            "('a', 'b', 'c', 'd', 'e', 'f', '0', '2', '3', '5')\n",
            "('a', 'b', 'c', 'd', 'e', 'f', '0', '2', '4', '5')\n",
            "('a', 'b', 'c', 'd', 'e', 'f', '0', '3', '4', '5')\n",
            "('a', 'b', 'c', 'd', 'e', 'f', '1', '2', '3', '4')\n",
            "('a', 'b', 'c', 'd', 'e', 'f', '1', '2', '3', '5')\n",
            "('a', 'b', 'c', 'd', 'e', 'f', '1', '2', '4', '5')\n",
            "('a', 'b', 'c', 'd', 'e', 'f', '1', '3', '4', '5')\n",
            "('a', 'b', 'c', 'd', 'e', 'f', '2', '3', '4', '5')\n",
            "('a', 'b', 'c', 'd', 'e', '0', '1', '2', '3', '4')\n",
            "('a', 'b', 'c', 'd', 'e', '0', '1', '2', '3', '5')\n",
            "('a', 'b', 'c', 'd', 'e', '0', '1', '2', '4', '5')\n",
            "('a', 'b', 'c', 'd', 'e', '0', '1', '3', '4', '5')\n",
            "('a', 'b', 'c', 'd', 'e', '0', '2', '3', '4', '5')\n",
            "('a', 'b', 'c', 'd', 'e', '1', '2', '3', '4', '5')\n",
            "('a', 'b', 'c', 'd', 'f', '0', '1', '2', '3', '4')\n",
            "('a', 'b', 'c', 'd', 'f', '0', '1', '2', '3', '5')\n",
            "('a', 'b', 'c', 'd', 'f', '0', '1', '2', '4', '5')\n",
            "('a', 'b', 'c', 'd', 'f', '0', '1', '3', '4', '5')\n",
            "('a', 'b', 'c', 'd', 'f', '0', '2', '3', '4', '5')\n",
            "('a', 'b', 'c', 'd', 'f', '1', '2', '3', '4', '5')\n",
            "('a', 'b', 'c', 'd', '0', '1', '2', '3', '4', '5')\n",
            "('a', 'b', 'c', 'e', 'f', '0', '1', '2', '3', '4')\n",
            "('a', 'b', 'c', 'e', 'f', '0', '1', '2', '3', '5')\n",
            "('a', 'b', 'c', 'e', 'f', '0', '1', '2', '4', '5')\n",
            "('a', 'b', 'c', 'e', 'f', '0', '1', '3', '4', '5')\n",
            "('a', 'b', 'c', 'e', 'f', '0', '2', '3', '4', '5')\n",
            "('a', 'b', 'c', 'e', 'f', '1', '2', '3', '4', '5')\n",
            "('a', 'b', 'c', 'e', '0', '1', '2', '3', '4', '5')\n",
            "('a', 'b', 'c', 'f', '0', '1', '2', '3', '4', '5')\n",
            "('a', 'b', 'd', 'e', 'f', '0', '1', '2', '3', '4')\n",
            "('a', 'b', 'd', 'e', 'f', '0', '1', '2', '3', '5')\n",
            "('a', 'b', 'd', 'e', 'f', '0', '1', '2', '4', '5')\n",
            "('a', 'b', 'd', 'e', 'f', '0', '1', '3', '4', '5')\n",
            "('a', 'b', 'd', 'e', 'f', '0', '2', '3', '4', '5')\n",
            "('a', 'b', 'd', 'e', 'f', '1', '2', '3', '4', '5')\n",
            "('a', 'b', 'd', 'e', '0', '1', '2', '3', '4', '5')\n",
            "('a', 'b', 'd', 'f', '0', '1', '2', '3', '4', '5')\n",
            "('a', 'b', 'e', 'f', '0', '1', '2', '3', '4', '5')\n",
            "('a', 'c', 'd', 'e', 'f', '0', '1', '2', '3', '4')\n",
            "('a', 'c', 'd', 'e', 'f', '0', '1', '2', '3', '5')\n",
            "('a', 'c', 'd', 'e', 'f', '0', '1', '2', '4', '5')\n",
            "('a', 'c', 'd', 'e', 'f', '0', '1', '3', '4', '5')\n",
            "('a', 'c', 'd', 'e', 'f', '0', '2', '3', '4', '5')\n",
            "('a', 'c', 'd', 'e', 'f', '1', '2', '3', '4', '5')\n",
            "('a', 'c', 'd', 'e', '0', '1', '2', '3', '4', '5')\n",
            "('a', 'c', 'd', 'f', '0', '1', '2', '3', '4', '5')\n",
            "('a', 'c', 'e', 'f', '0', '1', '2', '3', '4', '5')\n",
            "('a', 'd', 'e', 'f', '0', '1', '2', '3', '4', '5')\n",
            "('b', 'c', 'd', 'e', 'f', '0', '1', '2', '3', '4')\n",
            "('b', 'c', 'd', 'e', 'f', '0', '1', '2', '3', '5')\n",
            "('b', 'c', 'd', 'e', 'f', '0', '1', '2', '4', '5')\n",
            "('b', 'c', 'd', 'e', 'f', '0', '1', '3', '4', '5')\n",
            "('b', 'c', 'd', 'e', 'f', '0', '2', '3', '4', '5')\n",
            "('b', 'c', 'd', 'e', 'f', '1', '2', '3', '4', '5')\n",
            "('b', 'c', 'd', 'e', '0', '1', '2', '3', '4', '5')\n",
            "('b', 'c', 'd', 'f', '0', '1', '2', '3', '4', '5')\n",
            "('b', 'c', 'e', 'f', '0', '1', '2', '3', '4', '5')\n",
            "('b', 'd', 'e', 'f', '0', '1', '2', '3', '4', '5')\n",
            "('c', 'd', 'e', 'f', '0', '1', '2', '3', '4', '5')\n"
          ]
        }
      ]
    },
    {
      "cell_type": "code",
      "source": [
        "dado=[1,2,3,4,5,6]\n",
        "n= len(dado)\n",
        "r = 2 # de dos en ds por que se tienen dos datos\n",
        "CnR = mt.factorial(n+r-1) / (mt.factorial(r) * mt.factorial ((n+r-1)-r))\n",
        "print(\"existen\", CnR, \"Posibles combinaciones con repeticion del total de\", n,\n",
        "      \"caracteres\" ,\"en grupos de\", r,\"en\", r)\n",
        "print(\"aqui las combinaciones\")\n",
        "\n",
        "#definir el conjunto de elementos\n",
        "elementos= [1,2,3,4,5,6]\n",
        "\n",
        "r = 2#\n",
        "\n",
        "combinaciones_dados = list(combinations_with_replacement(dado,r))\n",
        "\n",
        "#\n",
        "for combinacion in combinaciones_dados:\n",
        "  print(combinacion)"
      ],
      "metadata": {
        "id": "-rOw8cgr7jft",
        "colab": {
          "base_uri": "https://localhost:8080/"
        },
        "outputId": "92fbe0e0-8772-4b13-e766-aac47c9ceb6c"
      },
      "execution_count": 20,
      "outputs": [
        {
          "output_type": "stream",
          "name": "stdout",
          "text": [
            "existen 21.0 Posibles combinaciones con repeticion del total de 6 caracteres en grupos de 2 en 2\n",
            "aqui las combinaciones\n",
            "(1, 1)\n",
            "(1, 2)\n",
            "(1, 3)\n",
            "(1, 4)\n",
            "(1, 5)\n",
            "(1, 6)\n",
            "(2, 2)\n",
            "(2, 3)\n",
            "(2, 4)\n",
            "(2, 5)\n",
            "(2, 6)\n",
            "(3, 3)\n",
            "(3, 4)\n",
            "(3, 5)\n",
            "(3, 6)\n",
            "(4, 4)\n",
            "(4, 5)\n",
            "(4, 6)\n",
            "(5, 5)\n",
            "(5, 6)\n",
            "(6, 6)\n"
          ]
        }
      ]
    },
    {
      "cell_type": "markdown",
      "source": [
        "## probabilidad_U2_Programa2"
      ],
      "metadata": {
        "id": "C9wrsEekJCuz"
      }
    },
    {
      "cell_type": "code",
      "source": [
        "import math as mt\n",
        "from itertools import permutations\n",
        "from itertools import product\n",
        "import numpy as np"
      ],
      "metadata": {
        "id": "Fkcra7QCB7OR"
      },
      "execution_count": 21,
      "outputs": []
    },
    {
      "cell_type": "code",
      "source": [
        "mt.factorial(7)"
      ],
      "metadata": {
        "id": "bibgShY06jMp"
      },
      "execution_count": null,
      "outputs": []
    },
    {
      "cell_type": "code",
      "source": [
        "mt.factorial(4)"
      ],
      "metadata": {
        "id": "Xw3YCJWG6jHu",
        "colab": {
          "base_uri": "https://localhost:8080/"
        },
        "outputId": "bb3d3af0-3299-4581-9777-629b4bce3024"
      },
      "execution_count": 23,
      "outputs": [
        {
          "output_type": "execute_result",
          "data": {
            "text/plain": [
              "24"
            ]
          },
          "metadata": {},
          "execution_count": 23
        }
      ]
    },
    {
      "cell_type": "code",
      "source": [
        "5040 / 24"
      ],
      "metadata": {
        "id": "EIk-aMnl6jCJ",
        "colab": {
          "base_uri": "https://localhost:8080/"
        },
        "outputId": "d7663066-4b71-438e-8559-6d3549adb5f0"
      },
      "execution_count": 24,
      "outputs": [
        {
          "output_type": "execute_result",
          "data": {
            "text/plain": [
              "210.0"
            ]
          },
          "metadata": {},
          "execution_count": 24
        }
      ]
    },
    {
      "cell_type": "code",
      "source": [
        "nombres = [\"a\", \"b\",\"c\",\"d\",\"e\",\"f\", \"g\"]\n",
        "n = len(nombres)\n",
        "r = 3\n",
        "Pr = mt.factorial(n) / (mt.factorial(n-r))\n",
        "print(\"existen\", Pr , \"posibles combinaciones sin repeticion del total de\",n, \"nombres\", \"en grupos de\" , r, \"en\", r)\n",
        "\n",
        "print(\"aqui  las permutaciones\")\n",
        "\n",
        "permutaciones_nombres = list(permutations(nombres,r))\n",
        "\n",
        "for permutacion in permutaciones_nombres:\n",
        " print(permutacion)"
      ],
      "metadata": {
        "id": "EBMNCy3h6i8d",
        "colab": {
          "base_uri": "https://localhost:8080/"
        },
        "outputId": "08974381-8165-4218-a43e-4809d420f13c"
      },
      "execution_count": 25,
      "outputs": [
        {
          "output_type": "stream",
          "name": "stdout",
          "text": [
            "existen 210.0 posibles combinaciones sin repeticion del total de 7 nombres en grupos de 3 en 3\n",
            "aqui  las permutaciones\n",
            "('a', 'b', 'c')\n",
            "('a', 'b', 'd')\n",
            "('a', 'b', 'e')\n",
            "('a', 'b', 'f')\n",
            "('a', 'b', 'g')\n",
            "('a', 'c', 'b')\n",
            "('a', 'c', 'd')\n",
            "('a', 'c', 'e')\n",
            "('a', 'c', 'f')\n",
            "('a', 'c', 'g')\n",
            "('a', 'd', 'b')\n",
            "('a', 'd', 'c')\n",
            "('a', 'd', 'e')\n",
            "('a', 'd', 'f')\n",
            "('a', 'd', 'g')\n",
            "('a', 'e', 'b')\n",
            "('a', 'e', 'c')\n",
            "('a', 'e', 'd')\n",
            "('a', 'e', 'f')\n",
            "('a', 'e', 'g')\n",
            "('a', 'f', 'b')\n",
            "('a', 'f', 'c')\n",
            "('a', 'f', 'd')\n",
            "('a', 'f', 'e')\n",
            "('a', 'f', 'g')\n",
            "('a', 'g', 'b')\n",
            "('a', 'g', 'c')\n",
            "('a', 'g', 'd')\n",
            "('a', 'g', 'e')\n",
            "('a', 'g', 'f')\n",
            "('b', 'a', 'c')\n",
            "('b', 'a', 'd')\n",
            "('b', 'a', 'e')\n",
            "('b', 'a', 'f')\n",
            "('b', 'a', 'g')\n",
            "('b', 'c', 'a')\n",
            "('b', 'c', 'd')\n",
            "('b', 'c', 'e')\n",
            "('b', 'c', 'f')\n",
            "('b', 'c', 'g')\n",
            "('b', 'd', 'a')\n",
            "('b', 'd', 'c')\n",
            "('b', 'd', 'e')\n",
            "('b', 'd', 'f')\n",
            "('b', 'd', 'g')\n",
            "('b', 'e', 'a')\n",
            "('b', 'e', 'c')\n",
            "('b', 'e', 'd')\n",
            "('b', 'e', 'f')\n",
            "('b', 'e', 'g')\n",
            "('b', 'f', 'a')\n",
            "('b', 'f', 'c')\n",
            "('b', 'f', 'd')\n",
            "('b', 'f', 'e')\n",
            "('b', 'f', 'g')\n",
            "('b', 'g', 'a')\n",
            "('b', 'g', 'c')\n",
            "('b', 'g', 'd')\n",
            "('b', 'g', 'e')\n",
            "('b', 'g', 'f')\n",
            "('c', 'a', 'b')\n",
            "('c', 'a', 'd')\n",
            "('c', 'a', 'e')\n",
            "('c', 'a', 'f')\n",
            "('c', 'a', 'g')\n",
            "('c', 'b', 'a')\n",
            "('c', 'b', 'd')\n",
            "('c', 'b', 'e')\n",
            "('c', 'b', 'f')\n",
            "('c', 'b', 'g')\n",
            "('c', 'd', 'a')\n",
            "('c', 'd', 'b')\n",
            "('c', 'd', 'e')\n",
            "('c', 'd', 'f')\n",
            "('c', 'd', 'g')\n",
            "('c', 'e', 'a')\n",
            "('c', 'e', 'b')\n",
            "('c', 'e', 'd')\n",
            "('c', 'e', 'f')\n",
            "('c', 'e', 'g')\n",
            "('c', 'f', 'a')\n",
            "('c', 'f', 'b')\n",
            "('c', 'f', 'd')\n",
            "('c', 'f', 'e')\n",
            "('c', 'f', 'g')\n",
            "('c', 'g', 'a')\n",
            "('c', 'g', 'b')\n",
            "('c', 'g', 'd')\n",
            "('c', 'g', 'e')\n",
            "('c', 'g', 'f')\n",
            "('d', 'a', 'b')\n",
            "('d', 'a', 'c')\n",
            "('d', 'a', 'e')\n",
            "('d', 'a', 'f')\n",
            "('d', 'a', 'g')\n",
            "('d', 'b', 'a')\n",
            "('d', 'b', 'c')\n",
            "('d', 'b', 'e')\n",
            "('d', 'b', 'f')\n",
            "('d', 'b', 'g')\n",
            "('d', 'c', 'a')\n",
            "('d', 'c', 'b')\n",
            "('d', 'c', 'e')\n",
            "('d', 'c', 'f')\n",
            "('d', 'c', 'g')\n",
            "('d', 'e', 'a')\n",
            "('d', 'e', 'b')\n",
            "('d', 'e', 'c')\n",
            "('d', 'e', 'f')\n",
            "('d', 'e', 'g')\n",
            "('d', 'f', 'a')\n",
            "('d', 'f', 'b')\n",
            "('d', 'f', 'c')\n",
            "('d', 'f', 'e')\n",
            "('d', 'f', 'g')\n",
            "('d', 'g', 'a')\n",
            "('d', 'g', 'b')\n",
            "('d', 'g', 'c')\n",
            "('d', 'g', 'e')\n",
            "('d', 'g', 'f')\n",
            "('e', 'a', 'b')\n",
            "('e', 'a', 'c')\n",
            "('e', 'a', 'd')\n",
            "('e', 'a', 'f')\n",
            "('e', 'a', 'g')\n",
            "('e', 'b', 'a')\n",
            "('e', 'b', 'c')\n",
            "('e', 'b', 'd')\n",
            "('e', 'b', 'f')\n",
            "('e', 'b', 'g')\n",
            "('e', 'c', 'a')\n",
            "('e', 'c', 'b')\n",
            "('e', 'c', 'd')\n",
            "('e', 'c', 'f')\n",
            "('e', 'c', 'g')\n",
            "('e', 'd', 'a')\n",
            "('e', 'd', 'b')\n",
            "('e', 'd', 'c')\n",
            "('e', 'd', 'f')\n",
            "('e', 'd', 'g')\n",
            "('e', 'f', 'a')\n",
            "('e', 'f', 'b')\n",
            "('e', 'f', 'c')\n",
            "('e', 'f', 'd')\n",
            "('e', 'f', 'g')\n",
            "('e', 'g', 'a')\n",
            "('e', 'g', 'b')\n",
            "('e', 'g', 'c')\n",
            "('e', 'g', 'd')\n",
            "('e', 'g', 'f')\n",
            "('f', 'a', 'b')\n",
            "('f', 'a', 'c')\n",
            "('f', 'a', 'd')\n",
            "('f', 'a', 'e')\n",
            "('f', 'a', 'g')\n",
            "('f', 'b', 'a')\n",
            "('f', 'b', 'c')\n",
            "('f', 'b', 'd')\n",
            "('f', 'b', 'e')\n",
            "('f', 'b', 'g')\n",
            "('f', 'c', 'a')\n",
            "('f', 'c', 'b')\n",
            "('f', 'c', 'd')\n",
            "('f', 'c', 'e')\n",
            "('f', 'c', 'g')\n",
            "('f', 'd', 'a')\n",
            "('f', 'd', 'b')\n",
            "('f', 'd', 'c')\n",
            "('f', 'd', 'e')\n",
            "('f', 'd', 'g')\n",
            "('f', 'e', 'a')\n",
            "('f', 'e', 'b')\n",
            "('f', 'e', 'c')\n",
            "('f', 'e', 'd')\n",
            "('f', 'e', 'g')\n",
            "('f', 'g', 'a')\n",
            "('f', 'g', 'b')\n",
            "('f', 'g', 'c')\n",
            "('f', 'g', 'd')\n",
            "('f', 'g', 'e')\n",
            "('g', 'a', 'b')\n",
            "('g', 'a', 'c')\n",
            "('g', 'a', 'd')\n",
            "('g', 'a', 'e')\n",
            "('g', 'a', 'f')\n",
            "('g', 'b', 'a')\n",
            "('g', 'b', 'c')\n",
            "('g', 'b', 'd')\n",
            "('g', 'b', 'e')\n",
            "('g', 'b', 'f')\n",
            "('g', 'c', 'a')\n",
            "('g', 'c', 'b')\n",
            "('g', 'c', 'd')\n",
            "('g', 'c', 'e')\n",
            "('g', 'c', 'f')\n",
            "('g', 'd', 'a')\n",
            "('g', 'd', 'b')\n",
            "('g', 'd', 'c')\n",
            "('g', 'd', 'e')\n",
            "('g', 'd', 'f')\n",
            "('g', 'e', 'a')\n",
            "('g', 'e', 'b')\n",
            "('g', 'e', 'c')\n",
            "('g', 'e', 'd')\n",
            "('g', 'e', 'f')\n",
            "('g', 'f', 'a')\n",
            "('g', 'f', 'b')\n",
            "('g', 'f', 'c')\n",
            "('g', 'f', 'd')\n",
            "('g', 'f', 'e')\n"
          ]
        }
      ]
    },
    {
      "cell_type": "markdown",
      "source": [
        "##  probabilidad_U2_Programa3\n"
      ],
      "metadata": {
        "id": "A7Rwg0oAJJaJ"
      }
    },
    {
      "cell_type": "code",
      "source": [
        "import math"
      ],
      "metadata": {
        "id": "r2hR4_wpGmIe"
      },
      "execution_count": 26,
      "outputs": []
    },
    {
      "cell_type": "code",
      "source": [
        "# Definir el tamaño del grupo (número total de asistentes disponibles)\n",
        "n = 10\n",
        "\n",
        "# Definir el tamaño del subconjunto (número de preguntas)\n",
        "k = 4\n",
        "\n",
        "# Calcular el número de permutaciones\n",
        "num_permutaciones = math.perm(n, k)\n",
        "\n",
        "# Imprimir el resultado\n",
        "print(f\"El número de permutaciones para seleccionar {k} asistentes de {n} es: {num_permutaciones}\")\n"
      ],
      "metadata": {
        "colab": {
          "base_uri": "https://localhost:8080/"
        },
        "id": "bX9MHdxYATmV",
        "outputId": "1b76adbd-b049-44dc-df2a-0263fdf89b53"
      },
      "execution_count": 27,
      "outputs": [
        {
          "output_type": "stream",
          "name": "stdout",
          "text": [
            "El número de permutaciones para seleccionar 4 asistentes de 10 es: 5040\n"
          ]
        }
      ]
    }
  ]
}